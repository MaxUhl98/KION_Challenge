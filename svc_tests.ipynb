{
 "cells": [
  {
   "cell_type": "code",
   "id": "initial_id",
   "metadata": {
    "collapsed": true,
    "ExecuteTime": {
     "end_time": "2024-09-06T09:16:50.177748Z",
     "start_time": "2024-09-06T09:16:50.174122Z"
    }
   },
   "source": [
    "from sentence_transformers import SentenceTransformer\n",
    "from sklearn.svm import SVC\n",
    "import pandas as pd\n",
    "from sklearn.model_selection import StratifiedKFold\n",
    "from sklearn.preprocessing import LabelEncoder\n",
    "from sklearn.metrics import confusion_matrix, accuracy_score\n",
    "from mlxtend.plotting import plot_confusion_matrix\n",
    "from xgboost import XGBClassifier\n",
    "import numpy as np"
   ],
   "outputs": [],
   "execution_count": 202
  },
  {
   "metadata": {
    "ExecuteTime": {
     "end_time": "2024-09-06T09:16:50.193797Z",
     "start_time": "2024-09-06T09:16:50.189757Z"
    }
   },
   "cell_type": "code",
   "source": [
    "num_folds = 6\n",
    "seed = 1\n",
    "model_architecture = SVC #XGBClassifier \n",
    "model_kwargs = {}"
   ],
   "id": "ee565c68eb712d2d",
   "outputs": [],
   "execution_count": 203
  },
  {
   "metadata": {
    "ExecuteTime": {
     "end_time": "2024-09-06T09:16:50.209454Z",
     "start_time": "2024-09-06T09:16:50.207203Z"
    }
   },
   "cell_type": "code",
   "source": [
    "unusable_columns = ['Use-cases', 'Categories', 'S No']\n",
    "target_column = 'Type'\n",
    "text_column = 'Prompts'"
   ],
   "id": "725c2f5a37d2cb4f",
   "outputs": [],
   "execution_count": 204
  },
  {
   "metadata": {
    "ExecuteTime": {
     "end_time": "2024-09-06T09:16:50.225515Z",
     "start_time": "2024-09-06T09:16:50.222981Z"
    }
   },
   "cell_type": "code",
   "source": [
    "embedding_save_dir: str = 'src/data/extra/'\n",
    "embedding_filename: str = 'embeddings_english'"
   ],
   "id": "2325ab5751ffbad5",
   "outputs": [],
   "execution_count": 205
  },
  {
   "metadata": {
    "ExecuteTime": {
     "end_time": "2024-09-06T09:16:50.300976Z",
     "start_time": "2024-09-06T09:16:50.243532Z"
    }
   },
   "cell_type": "code",
   "source": [
    "\n",
    "data = pd.read_excel('src/data/extra/Turn 1 (HF).xlsx').drop(columns=unusable_columns)\n",
    "label_encoder = LabelEncoder()\n",
    "data[target_column] = label_encoder.fit_transform(data[target_column])\n"
   ],
   "id": "1b90ed12711b5d6b",
   "outputs": [],
   "execution_count": 206
  },
  {
   "metadata": {
    "ExecuteTime": {
     "end_time": "2024-09-06T09:16:50.319005Z",
     "start_time": "2024-09-06T09:16:50.315146Z"
    }
   },
   "cell_type": "code",
   "source": [
    "try:\n",
    "    vectorized_data = np.load(embedding_save_dir + embedding_filename+'.npy')\n",
    "except Exception as err:\n",
    "    embedder = SentenceTransformer('jinaai/jina-embeddings-v2-base-en', trust_remote_code=True)\n",
    "    embedder.max_seq_length = 4096\n",
    "    vectorized_data = embedder.encode(data[text_column].tolist(), batch_size=4)\n",
    "    np.save(embedding_save_dir+embedding_filename, vectorized_data)\n",
    "    print(vectorized_data.shape)\n"
   ],
   "id": "b2bc90637404d41",
   "outputs": [],
   "execution_count": 207
  },
  {
   "metadata": {
    "ExecuteTime": {
     "end_time": "2024-09-06T09:16:50.335525Z",
     "start_time": "2024-09-06T09:16:50.331999Z"
    }
   },
   "cell_type": "code",
   "source": [
    "splitter = StratifiedKFold(n_splits=num_folds, random_state=seed, shuffle=True)\n",
    "folds = list(splitter.split(data[text_column], data[target_column]))"
   ],
   "id": "17aececa089a6796",
   "outputs": [],
   "execution_count": 208
  },
  {
   "metadata": {
    "ExecuteTime": {
     "end_time": "2024-09-06T09:16:50.542623Z",
     "start_time": "2024-09-06T09:16:50.348059Z"
    }
   },
   "cell_type": "code",
   "source": [
    "models = []\n",
    "accuracies = []\n",
    "oof_predictions = []\n",
    "true_labels = []\n",
    "for num_fold, (train_idx, test_idx) in enumerate(folds):\n",
    "    train_data = data.loc[train_idx]\n",
    "    test_data = data.loc[test_idx]\n",
    "    train_vectors = vectorized_data[train_idx]\n",
    "    test_vectors = vectorized_data[test_idx]\n",
    "    model = model_architecture(**model_kwargs)\n",
    "    model.fit(train_vectors, train_data[target_column])\n",
    "    predictions = model.predict(test_vectors)\n",
    "    accuracy = accuracy_score(test_data[target_column], predictions)\n",
    "    models.append(model)\n",
    "    oof_predictions.append(predictions)\n",
    "    true_labels.append(test_data[target_column])\n",
    "    accuracies.append(accuracy)\n",
    "    print(f'Accuracy of fold {num_fold}: {accuracy}')\n",
    "print(np.mean(accuracies))"
   ],
   "id": "66449d9eb0853738",
   "outputs": [
    {
     "name": "stdout",
     "output_type": "stream",
     "text": [
      "Accuracy of fold 0: 0.79\n",
      "Accuracy of fold 1: 0.84\n",
      "Accuracy of fold 2: 0.8\n",
      "Accuracy of fold 3: 0.87\n",
      "Accuracy of fold 4: 0.78\n",
      "Accuracy of fold 5: 0.83\n",
      "0.8183333333333334\n"
     ]
    }
   ],
   "execution_count": 209
  },
  {
   "metadata": {
    "ExecuteTime": {
     "end_time": "2024-09-06T09:16:50.560555Z",
     "start_time": "2024-09-06T09:16:50.556270Z"
    }
   },
   "cell_type": "code",
   "source": "accuracies\n",
   "id": "3918d75a17136d04",
   "outputs": [
    {
     "data": {
      "text/plain": [
       "[0.79, 0.84, 0.8, 0.87, 0.78, 0.83]"
      ]
     },
     "execution_count": 210,
     "metadata": {},
     "output_type": "execute_result"
    }
   ],
   "execution_count": 210
  },
  {
   "metadata": {
    "ExecuteTime": {
     "end_time": "2024-09-06T09:16:50.712167Z",
     "start_time": "2024-09-06T09:16:50.652600Z"
    }
   },
   "cell_type": "code",
   "source": [
    "plot_confusion_matrix(confusion_matrix(np.concatenate(true_labels), np.concatenate(oof_predictions)))\n",
    "print(label_encoder.inverse_transform([0, 1]))"
   ],
   "id": "d373d2199be9a3d1",
   "outputs": [
    {
     "name": "stdout",
     "output_type": "stream",
     "text": [
      "['Complex' 'Simple']\n"
     ]
    },
    {
     "data": {
      "text/plain": [
       "<Figure size 640x480 with 1 Axes>"
      ],
      "image/png": "[encoded data removed]"
     },
     "metadata": {},
     "output_type": "display_data"
    }
   ],
   "execution_count": 211
  }
 ],
 "metadata": {
  "kernelspec": {
   "display_name": "Python 3",
   "language": "python",
   "name": "python3"
  },
  "language_info": {
   "codemirror_mode": {
    "name": "ipython",
    "version": 2
   },
   "file_extension": ".py",
   "mimetype": "text/x-python",
   "name": "python",
   "nbconvert_exporter": "python",
   "pygments_lexer": "ipython2",
   "version": "2.7.6"
  }
 },
 "nbformat": 4,
 "nbformat_minor": 5
}
