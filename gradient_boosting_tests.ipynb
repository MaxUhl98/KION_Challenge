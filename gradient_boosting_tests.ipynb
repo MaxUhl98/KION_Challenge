{
 "cells": [
  {
   "cell_type": "code",
   "id": "initial_id",
   "metadata": {
    "collapsed": true,
    "ExecuteTime": {
     "end_time": "2024-09-06T08:57:27.184367Z",
     "start_time": "2024-09-06T08:57:27.181300Z"
    }
   },
   "source": [
    "import pandas as pd\n",
    "from sklearn.feature_extraction.text import TfidfVectorizer\n",
    "from sklearn.model_selection import StratifiedShuffleSplit, StratifiedKFold\n",
    "from sklearn.preprocessing import LabelEncoder\n",
    "from xgboost import XGBClassifier\n",
    "from sklearn.metrics import confusion_matrix, accuracy_score\n",
    "from mlxtend.plotting import plot_confusion_matrix\n",
    "from nltk.corpus import stopwords\n",
    "from nltk.tokenize import word_tokenize\n",
    "import numpy as np"
   ],
   "outputs": [],
   "execution_count": 35
  },
  {
   "metadata": {},
   "cell_type": "markdown",
   "source": "Settings",
   "id": "c8bdfa4dfc3c70fd"
  },
  {
   "metadata": {
    "ExecuteTime": {
     "end_time": "2024-09-06T08:57:27.200081Z",
     "start_time": "2024-09-06T08:57:27.192365Z"
    }
   },
   "cell_type": "code",
   "source": [
    "target_column = 'classes'\n",
    "text_column = 'prompts'\n",
    "unusable_columns = []"
   ],
   "id": "597cf252be85e891",
   "outputs": [],
   "execution_count": 36
  },
  {
   "metadata": {},
   "cell_type": "markdown",
   "source": "Read Data",
   "id": "5bf488df1f661df6"
  },
  {
   "metadata": {
    "ExecuteTime": {
     "end_time": "2024-09-06T08:57:27.265949Z",
     "start_time": "2024-09-06T08:57:27.213820Z"
    }
   },
   "cell_type": "code",
   "source": "data = pd.read_csv('train_all.csv').drop(columns=unusable_columns)",
   "id": "5b6164ddece7f3ba",
   "outputs": [],
   "execution_count": 37
  },
  {
   "metadata": {},
   "cell_type": "markdown",
   "source": "Utility function",
   "id": "dea1cb07b9d6740f"
  },
  {
   "metadata": {
    "ExecuteTime": {
     "end_time": "2024-09-06T08:57:27.282061Z",
     "start_time": "2024-09-06T08:57:27.279499Z"
    }
   },
   "cell_type": "code",
   "source": [
    "def remove_stop_words(sentence:str) -> str:\n",
    "    new_words = word_tokenize(sentence)\n",
    "    new_filtered_words = [\n",
    "    word for word in new_words if word.lower() not in stopwords.words('english')]\n",
    "    return ' '.join(new_filtered_words)\n",
    " "
   ],
   "id": "8c6b2d83ab9f74f",
   "outputs": [],
   "execution_count": 38
  },
  {
   "metadata": {},
   "cell_type": "markdown",
   "source": "Encode Targets",
   "id": "ba4d1ffc6eb54e4e"
  },
  {
   "metadata": {
    "ExecuteTime": {
     "end_time": "2024-09-06T08:57:27.298332Z",
     "start_time": "2024-09-06T08:57:27.295331Z"
    }
   },
   "cell_type": "code",
   "source": [
    "label_encoder = LabelEncoder()\n",
    "data[target_column] = label_encoder.fit_transform(data[target_column])"
   ],
   "id": "950f071944805b25",
   "outputs": [],
   "execution_count": 39
  },
  {
   "metadata": {},
   "cell_type": "markdown",
   "source": "Get K-Folds",
   "id": "461b2fd2c588fc6e"
  },
  {
   "metadata": {
    "ExecuteTime": {
     "end_time": "2024-09-06T08:57:27.315379Z",
     "start_time": "2024-09-06T08:57:27.311858Z"
    }
   },
   "cell_type": "code",
   "source": [
    "splitter = StratifiedKFold(n_splits=10, random_state=0, shuffle=True)\n",
    "folds = list(splitter.split(data[text_column], data[target_column]))"
   ],
   "id": "6914ed7306f16616",
   "outputs": [],
   "execution_count": 40
  },
  {
   "metadata": {},
   "cell_type": "markdown",
   "source": "Perform CV Training",
   "id": "f7f633e95a8dc631"
  },
  {
   "metadata": {
    "ExecuteTime": {
     "end_time": "2024-09-06T08:57:33.614369Z",
     "start_time": "2024-09-06T08:57:27.328894Z"
    }
   },
   "cell_type": "code",
   "source": [
    "models = []\n",
    "accuracies = []\n",
    "oof_predictions = []\n",
    "true_labels = []\n",
    "\n",
    "#embedding_save_dir: str = 'src/data/extra/'\n",
    "#embedding_filename: str = 'embeddings_english'\n",
    "#vectorized_data = np.load(embedding_save_dir + embedding_filename+'.npy')\n",
    "\n",
    "for train_idx, test_idx in folds:\n",
    "    train_data = data.loc[train_idx]\n",
    "    test_data = data.loc[test_idx]\n",
    "    #train_vectors = vectorized_data[train_idx]\n",
    "    #test_vectors = vectorized_data[test_idx]\n",
    "    vectorizer = TfidfVectorizer()\n",
    "    train_vectors =  vectorizer.fit_transform(train_data[text_column])\n",
    "    model = XGBClassifier()\n",
    "    model.fit(train_vectors, train_data[target_column])\n",
    "    test_vectors = vectorizer.transform(test_data[text_column])\n",
    "    predictions = model.predict(test_vectors)\n",
    "    accuracy = accuracy_score(test_data[target_column], predictions)\n",
    "    models.append(model)\n",
    "    oof_predictions.append(predictions)\n",
    "    true_labels.append(test_data[target_column])\n",
    "    accuracies.append(accuracy)\n",
    "print(np.mean(accuracies))\n",
    "accuracies"
   ],
   "id": "20a38ebc85f78ec3",
   "outputs": [
    {
     "name": "stdout",
     "output_type": "stream",
     "text": [
      "0.7783333333333333\n"
     ]
    },
    {
     "data": {
      "text/plain": [
       "[0.75, 0.8, 0.85, 0.74, 0.81, 0.72]"
      ]
     },
     "execution_count": 41,
     "metadata": {},
     "output_type": "execute_result"
    }
   ],
   "execution_count": 41
  },
  {
   "metadata": {},
   "cell_type": "markdown",
   "source": "Plot results",
   "id": "86ab0e3320ed0ee8"
  },
  {
   "metadata": {
    "ExecuteTime": {
     "end_time": "2024-09-06T08:57:33.811366Z",
     "start_time": "2024-09-06T08:57:33.752366Z"
    }
   },
   "cell_type": "code",
   "source": [
    "plot_confusion_matrix(confusion_matrix(np.concatenate(true_labels), np.concatenate(oof_predictions)))\n",
    "print(label_encoder.inverse_transform([0,1]))"
   ],
   "id": "ccfdcebdf534ca2a",
   "outputs": [
    {
     "name": "stdout",
     "output_type": "stream",
     "text": [
      "['Complex' 'Simple']\n"
     ]
    },
    {
     "data": {
      "text/plain": [
       "<Figure size 640x480 with 1 Axes>"
      ],
      "image/png": "[encoded data removed]"
     },
     "metadata": {},
     "output_type": "display_data"
    }
   ],
   "execution_count": 42
  }
 ],
 "metadata": {
  "kernelspec": {
   "display_name": "Python 3",
   "language": "python",
   "name": "python3"
  },
  "language_info": {
   "codemirror_mode": {
    "name": "ipython",
    "version": 2
   },
   "file_extension": ".py",
   "mimetype": "text/x-python",
   "name": "python",
   "nbconvert_exporter": "python",
   "pygments_lexer": "ipython2",
   "version": "2.7.6"
  }
 },
 "nbformat": 4,
 "nbformat_minor": 5
}
