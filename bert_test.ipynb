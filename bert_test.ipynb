{
 "cells": [
  {
   "cell_type": "code",
   "execution_count": null,
   "id": "initial_id",
   "metadata": {
    "collapsed": true
   },
   "outputs": [],
   "source": [
    "import transformers\n",
    "import pandas as pd\n",
    "from accelerate.test_utils.scripts.test_distributed_data_loop import test_data_loader\n",
    "from sklearn.model_selection import StratifiedKFold, train_test_split\n",
    "from transformers import AutoTokenizer, AutoModelForSequenceClassification\n",
    "from classification import ComplexityClassificationDataset, train, k_fold_train\n",
    "from torch.optim import AdamW\n",
    "from torch.nn import BCELoss\n",
    "from torch.utils.data import DataLoader, Dataset\n",
    "from CFG import CFG"
   ]
  },
  {
   "metadata": {},
   "cell_type": "code",
   "outputs": [],
   "execution_count": null,
   "source": "model_name = 'deepset/gbert-base'",
   "id": "58e43226905182ce"
  },
  {
   "metadata": {},
   "cell_type": "code",
   "outputs": [],
   "execution_count": null,
   "source": "data = pd.read_csv('src/data/extra/Turn_1_HF_google_translate.csv')\n",
   "id": "dfc5e1d389929a9"
  },
  {
   "metadata": {},
   "cell_type": "code",
   "outputs": [],
   "execution_count": null,
   "source": [
    "model = AutoModelForSequenceClassification.from_pretrained(model_name)\n",
    "tokenizer = AutoTokenizer.from_pretrained(model_name)"
   ],
   "id": "399c8aa772224f45"
  },
  {
   "metadata": {},
   "cell_type": "code",
   "outputs": [],
   "execution_count": null,
   "source": "#dataset = ComplexityClassificationDataset(data, tokenizer)",
   "id": "bf0a2690acbc072b"
  },
  {
   "metadata": {},
   "cell_type": "code",
   "outputs": [],
   "execution_count": null,
   "source": [
    "train_data, test_data = train_test_split(data, test_size=0.2, random_state=CFG.seed)\n",
    "train_data, test_data = ComplexityClassificationDataset(data.iloc[train_data], tokenizer),ComplexityClassificationDataset(data.iloc[test_data], tokenizer)\n",
    "train_loader, test_loader = DataLoader(train_data), DataLoader(test_data)"
   ],
   "id": "3242697ed1f4ef6c"
  },
  {
   "metadata": {},
   "cell_type": "code",
   "outputs": [],
   "execution_count": null,
   "source": [
    "optimizer = AdamW(model.parameters(), lr=CFG.lr)\n",
    "loss_fn = BCELoss()"
   ],
   "id": "feb92c4e97b7a3b6"
  },
  {
   "metadata": {},
   "cell_type": "code",
   "outputs": [],
   "execution_count": null,
   "source": "train(model,train_loader,test_loader, optimizer,loss_fn, CFG.epochs, )",
   "id": "6074fc18fffefa93"
  }
 ],
 "metadata": {
  "kernelspec": {
   "display_name": "Python 3",
   "language": "python",
   "name": "python3"
  },
  "language_info": {
   "codemirror_mode": {
    "name": "ipython",
    "version": 2
   },
   "file_extension": ".py",
   "mimetype": "text/x-python",
   "name": "python",
   "nbconvert_exporter": "python",
   "pygments_lexer": "ipython2",
   "version": "2.7.6"
  }
 },
 "nbformat": 4,
 "nbformat_minor": 5
}
